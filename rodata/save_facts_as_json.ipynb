{
 "cells": [
  {
   "cell_type": "code",
   "execution_count": 2,
   "metadata": {},
   "outputs": [],
   "source": [
    "import pandas as pd"
   ]
  },
  {
   "cell_type": "code",
   "execution_count": 53,
   "metadata": {},
   "outputs": [],
   "source": [
    "df2.to_csv('../viz_data/facts.csv', index = False)"
   ]
  },
  {
   "cell_type": "code",
   "execution_count": 9,
   "metadata": {},
   "outputs": [
    {
     "data": {
      "text/html": [
       "<div>\n",
       "<style scoped>\n",
       "    .dataframe tbody tr th:only-of-type {\n",
       "        vertical-align: middle;\n",
       "    }\n",
       "\n",
       "    .dataframe tbody tr th {\n",
       "        vertical-align: top;\n",
       "    }\n",
       "\n",
       "    .dataframe thead th {\n",
       "        text-align: right;\n",
       "    }\n",
       "</style>\n",
       "<table border=\"1\" class=\"dataframe\">\n",
       "  <thead>\n",
       "    <tr style=\"text-align: right;\">\n",
       "      <th></th>\n",
       "      <th>Unnamed: 0</th>\n",
       "      <th>boss</th>\n",
       "      <th>facts</th>\n",
       "      <th>looter</th>\n",
       "      <th>other</th>\n",
       "      <th>passive</th>\n",
       "    </tr>\n",
       "  </thead>\n",
       "  <tbody>\n",
       "    <tr>\n",
       "      <th>0</th>\n",
       "      <td>Angeling</td>\n",
       "      <td>1.0</td>\n",
       "      <td>Angeling is the final evolution form of a pori...</td>\n",
       "      <td>NaN</td>\n",
       "      <td>NaN</td>\n",
       "      <td>0.0</td>\n",
       "    </tr>\n",
       "    <tr>\n",
       "      <th>1</th>\n",
       "      <td>Archangeling / Arc Angeling</td>\n",
       "      <td>1.0</td>\n",
       "      <td>Archangeling is another angelic modification o...</td>\n",
       "      <td>NaN</td>\n",
       "      <td>NaN</td>\n",
       "      <td>0.0</td>\n",
       "    </tr>\n",
       "    <tr>\n",
       "      <th>2</th>\n",
       "      <td>Baby Poring Ringleader</td>\n",
       "      <td>NaN</td>\n",
       "      <td>Baby Poring Ringleader is a type of little por...</td>\n",
       "      <td>1.0</td>\n",
       "      <td>NaN</td>\n",
       "      <td>NaN</td>\n",
       "    </tr>\n",
       "    <tr>\n",
       "      <th>3</th>\n",
       "      <td>Bomb Poring</td>\n",
       "      <td>NaN</td>\n",
       "      <td>Bomb poring is a suicidal kind that appears on...</td>\n",
       "      <td>NaN</td>\n",
       "      <td>NaN</td>\n",
       "      <td>0.0</td>\n",
       "    </tr>\n",
       "    <tr>\n",
       "      <th>4</th>\n",
       "      <td>Deviling</td>\n",
       "      <td>1.0</td>\n",
       "      <td>Deviling is a poring with its soul manipulated...</td>\n",
       "      <td>NaN</td>\n",
       "      <td>NaN</td>\n",
       "      <td>0.0</td>\n",
       "    </tr>\n",
       "  </tbody>\n",
       "</table>\n",
       "</div>"
      ],
      "text/plain": [
       "                    Unnamed: 0  boss  \\\n",
       "0                     Angeling   1.0   \n",
       "1  Archangeling / Arc Angeling   1.0   \n",
       "2       Baby Poring Ringleader   NaN   \n",
       "3                  Bomb Poring   NaN   \n",
       "4                     Deviling   1.0   \n",
       "\n",
       "                                               facts  looter other  passive  \n",
       "0  Angeling is the final evolution form of a pori...     NaN   NaN      0.0  \n",
       "1  Archangeling is another angelic modification o...     NaN   NaN      0.0  \n",
       "2  Baby Poring Ringleader is a type of little por...     1.0   NaN      NaN  \n",
       "3  Bomb poring is a suicidal kind that appears on...     NaN   NaN      0.0  \n",
       "4  Deviling is a poring with its soul manipulated...     NaN   NaN      0.0  "
      ]
     },
     "execution_count": 9,
     "metadata": {},
     "output_type": "execute_result"
    }
   ],
   "source": [
    "df_facts = pd.read_csv(df_facts_path)\n",
    "df_facts.head()"
   ]
  },
  {
   "cell_type": "markdown",
   "metadata": {},
   "source": [
    "### save as json"
   ]
  },
  {
   "cell_type": "code",
   "execution_count": 5,
   "metadata": {},
   "outputs": [
    {
     "data": {
      "text/html": [
       "<div>\n",
       "<style scoped>\n",
       "    .dataframe tbody tr th:only-of-type {\n",
       "        vertical-align: middle;\n",
       "    }\n",
       "\n",
       "    .dataframe tbody tr th {\n",
       "        vertical-align: top;\n",
       "    }\n",
       "\n",
       "    .dataframe thead th {\n",
       "        text-align: right;\n",
       "    }\n",
       "</style>\n",
       "<table border=\"1\" class=\"dataframe\">\n",
       "  <thead>\n",
       "    <tr style=\"text-align: right;\">\n",
       "      <th></th>\n",
       "      <th>facts</th>\n",
       "      <th>looter</th>\n",
       "      <th>passive</th>\n",
       "      <th>boss</th>\n",
       "      <th>other</th>\n",
       "    </tr>\n",
       "    <tr>\n",
       "      <th>name</th>\n",
       "      <th></th>\n",
       "      <th></th>\n",
       "      <th></th>\n",
       "      <th></th>\n",
       "      <th></th>\n",
       "    </tr>\n",
       "  </thead>\n",
       "  <tbody>\n",
       "    <tr>\n",
       "      <th>Golden Poring</th>\n",
       "      <td>None of them are found on any map. This monste...</td>\n",
       "      <td>1.0</td>\n",
       "      <td>1.0</td>\n",
       "      <td>NaN</td>\n",
       "      <td>NaN</td>\n",
       "    </tr>\n",
       "    <tr>\n",
       "      <th>Poring</th>\n",
       "      <td>Porings are cute small pink gelatinous monster...</td>\n",
       "      <td>1.0</td>\n",
       "      <td>1.0</td>\n",
       "      <td>NaN</td>\n",
       "      <td>NaN</td>\n",
       "    </tr>\n",
       "    <tr>\n",
       "      <th>Poring Ringleader</th>\n",
       "      <td>These porings could be rarely seen in Lighthal...</td>\n",
       "      <td>1.0</td>\n",
       "      <td>1.0</td>\n",
       "      <td>NaN</td>\n",
       "      <td>NaN</td>\n",
       "    </tr>\n",
       "    <tr>\n",
       "      <th>Elusive Poring</th>\n",
       "      <td>Elusive Poring is a rare monster that sometime...</td>\n",
       "      <td>1.0</td>\n",
       "      <td>1.0</td>\n",
       "      <td>NaN</td>\n",
       "      <td>NaN</td>\n",
       "    </tr>\n",
       "    <tr>\n",
       "      <th>Furious Poring</th>\n",
       "      <td>Another rare kind of poring that wanders in Li...</td>\n",
       "      <td>1.0</td>\n",
       "      <td>1.0</td>\n",
       "      <td>NaN</td>\n",
       "      <td>NaN</td>\n",
       "    </tr>\n",
       "  </tbody>\n",
       "</table>\n",
       "</div>"
      ],
      "text/plain": [
       "                                                               facts  looter  \\\n",
       "name                                                                           \n",
       "Golden Poring      None of them are found on any map. This monste...     1.0   \n",
       "Poring             Porings are cute small pink gelatinous monster...     1.0   \n",
       "Poring Ringleader  These porings could be rarely seen in Lighthal...     1.0   \n",
       "Elusive Poring     Elusive Poring is a rare monster that sometime...     1.0   \n",
       "Furious Poring     Another rare kind of poring that wanders in Li...     1.0   \n",
       "\n",
       "                   passive  boss other  \n",
       "name                                    \n",
       "Golden Poring          1.0   NaN   NaN  \n",
       "Poring                 1.0   NaN   NaN  \n",
       "Poring Ringleader      1.0   NaN   NaN  \n",
       "Elusive Poring         1.0   NaN   NaN  \n",
       "Furious Poring         1.0   NaN   NaN  "
      ]
     },
     "execution_count": 5,
     "metadata": {},
     "output_type": "execute_result"
    }
   ],
   "source": [
    "df_facts.set_index('name').head()"
   ]
  },
  {
   "cell_type": "code",
   "execution_count": 6,
   "metadata": {},
   "outputs": [],
   "source": [
    "df_facts.set_index('name').to_json('../viz_data/facts.json',orient='index')"
   ]
  }
 ],
 "metadata": {
  "kernelspec": {
   "display_name": "Python 3",
   "language": "python",
   "name": "python3"
  },
  "language_info": {
   "codemirror_mode": {
    "name": "ipython",
    "version": 3
   },
   "file_extension": ".py",
   "mimetype": "text/x-python",
   "name": "python",
   "nbconvert_exporter": "python",
   "pygments_lexer": "ipython3",
   "version": "3.6.4"
  }
 },
 "nbformat": 4,
 "nbformat_minor": 2
}
